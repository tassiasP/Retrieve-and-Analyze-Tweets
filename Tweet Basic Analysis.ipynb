{
 "cells": [
  {
   "cell_type": "markdown",
   "metadata": {},
   "source": [
    "# Collect & explore data about the recent pandemic from Twitter"
   ]
  },
  {
   "cell_type": "markdown",
   "metadata": {},
   "source": [
    "### Connect to Twitter \n"
   ]
  },
  {
   "cell_type": "code",
   "execution_count": 2,
   "metadata": {},
   "outputs": [],
   "source": [
    "import tweepy\n",
    "from twitter_config import config\n",
    "import numpy as np\n",
    "import pandas as pd\n",
    "import matplotlib.pyplot as plt"
   ]
  },
  {
   "cell_type": "code",
   "execution_count": 2,
   "metadata": {},
   "outputs": [],
   "source": [
    "auth = tweepy.OAuthHandler(config['api_key'], config['api_secret_key'])\n",
    "auth.set_access_token(config['access_token'], config['access_token_secret'])\n",
    "\n",
    "api = tweepy.API(auth)\n",
    "\n",
    "# api.get_user(screen_name='twitter')"
   ]
  },
  {
   "cell_type": "markdown",
   "metadata": {},
   "source": [
    "### Collect data by building a stream\n",
    "* Create a stream listener.\n",
    "* Monitor the given COVID-19 related terms. \n",
    "* Collect 50k statuses and save to a list called covid_tweets."
   ]
  },
  {
   "cell_type": "code",
   "execution_count": 3,
   "metadata": {},
   "outputs": [],
   "source": [
    "terms = ['covid19', '#ncov2019', 'Covid_19', '#conronaviruspandemic', 'COVID-19', '#caronavirus', \n",
    "         '#infocoronavirus', 'coronavirusupdate', 'carona virus', '#coronavirues', '#Coronovirus', \n",
    "         '#2019nCoV', '#Coronvirus', '#Coronavirus', 'covid-19', 'Coronavirus', '#caronavirusoutbreak', \n",
    "         'covid', '#CoronaVirusUpdate', '#Corvid19virus', '#covid', 'coronavirus', '#CoronaVirus', 'nCoV', \n",
    "         'covid 19', '#nCoV2019', '#covid_19', '#coronavirusupdates', '#COVIDー19', '#2019nCov', '#CoronaAlert', \n",
    "         '#coronavirus', 'SARS-CoV-2', '#nCoV', '#coronanews', '#COVID', '2019nCoV', '#CoronavirusOutbreak', \n",
    "         '#coronapocolypse', '#COVID19', '#codvid19', '#codvid_19', 'coronavirus outbreak']"
   ]
  },
  {
   "cell_type": "code",
   "execution_count": 4,
   "metadata": {},
   "outputs": [],
   "source": [
    "class MyStreamListener(tweepy.StreamListener):\n",
    "    '''\n",
    "    Extends the 'tweepy.StreamListener' class and overrides the 'on_status' method\n",
    "    in order to store tweets to the member list '_covid_tweets'\n",
    "    '''\n",
    "    \n",
    "    def __init__(self, num_of_items):\n",
    "        super(MyStreamListener, self).__init__()\n",
    "        self._count = 0\n",
    "        self._covid_tweets = []\n",
    "        self._num_of_items = num_of_items\n",
    "    \n",
    "    def on_status(self, status):\n",
    "        self._count += 1\n",
    "        self._covid_tweets.append(status)\n",
    "        \n",
    "        if self._count == self._num_of_items:\n",
    "            # Disconnect the stream\n",
    "            return False\n",
    "        \n",
    "    def on_error(self, status_code):\n",
    "        # If a number of attempts to connect to the streaming API has been exceeded\n",
    "        if status_code == 420:\n",
    "            return False\n",
    "    \n",
    "    @property\n",
    "    def count(self):\n",
    "        return self._count\n",
    "    \n",
    "    @property\n",
    "    def covid_tweets(self):\n",
    "        return self._covid_tweets\n",
    "    \n",
    "    @property\n",
    "    def num_of_items(self):\n",
    "        return _num_of_items\n",
    "    \n",
    "    @num_of_items.setter\n",
    "    def num_of_items(value):\n",
    "        self._num_of_items = value\n"
   ]
  },
  {
   "cell_type": "code",
   "execution_count": 5,
   "metadata": {},
   "outputs": [],
   "source": [
    "# Initialise the stream using our StreamListener\n",
    "num_of_tweets = 50000\n",
    "myStreamListener = MyStreamListener(num_of_tweets)\n",
    "stream = tweepy.Stream(auth = api.auth, listener=myStreamListener)"
   ]
  },
  {
   "cell_type": "code",
   "execution_count": 6,
   "metadata": {},
   "outputs": [
    {
     "name": "stdout",
     "output_type": "stream",
     "text": [
      "Wall time: 17min 21s\n"
     ]
    }
   ],
   "source": [
    "%%time\n",
    "# Start tracking terms\n",
    "stream.filter(track=terms)"
   ]
  },
  {
   "cell_type": "code",
   "execution_count": 7,
   "metadata": {},
   "outputs": [],
   "source": [
    "# Access the tweets as a property of our implementation of the listener and store them to a python list\n",
    "covid_tweets = myStreamListener.covid_tweets"
   ]
  },
  {
   "cell_type": "code",
   "execution_count": 8,
   "metadata": {},
   "outputs": [
    {
     "data": {
      "text/plain": [
       "dict_keys(['created_at', 'id', 'id_str', 'text', 'source', 'truncated', 'in_reply_to_status_id', 'in_reply_to_status_id_str', 'in_reply_to_user_id', 'in_reply_to_user_id_str', 'in_reply_to_screen_name', 'user', 'geo', 'coordinates', 'place', 'contributors', 'retweeted_status', 'quoted_status_id', 'quoted_status_id_str', 'quoted_status', 'quoted_status_permalink', 'is_quote_status', 'quote_count', 'reply_count', 'retweet_count', 'favorite_count', 'entities', 'favorited', 'retweeted', 'filter_level', 'lang', 'timestamp_ms'])"
      ]
     },
     "execution_count": 8,
     "metadata": {},
     "output_type": "execute_result"
    }
   ],
   "source": [
    "# Let's inspect the list of attributes a tweet contains\n",
    "covid_tweets[0]._json.keys()"
   ]
  },
  {
   "cell_type": "code",
   "execution_count": 9,
   "metadata": {},
   "outputs": [
    {
     "data": {
      "text/plain": [
       "50000"
      ]
     },
     "execution_count": 9,
     "metadata": {},
     "output_type": "execute_result"
    }
   ],
   "source": [
    "len(covid_tweets)"
   ]
  },
  {
   "cell_type": "markdown",
   "metadata": {},
   "source": [
    "### Create a dataframe\n",
    "* Put all the collected tweets in a dataframe.\n",
    "* As columns of the dataframe keep only the following attributes: `created_at`, `place`, `lang` and `text`. Also, the `screen_name`, `followers_count`, `statuses_count`, and `location` of the `user`.  \n",
    "* Make sure that any column with dates is treated as such by the dataframe."
   ]
  },
  {
   "cell_type": "code",
   "execution_count": 12,
   "metadata": {},
   "outputs": [],
   "source": [
    "# Read the data from the json file and save them to temporary lists \n",
    "dates, places, langs, texts, users, followers_count, statuses_count, locations = [], [], [], [], [], [], [], []\n",
    "for tweet in covid_tweets:\n",
    "    dates.append(tweet._json[\"created_at\"])\n",
    "    places.append(tweet._json[\"place\"])\n",
    "    langs.append(tweet._json[\"lang\"])\n",
    "    texts.append(tweet._json[\"text\"])\n",
    "\n",
    "    users.append(tweet._json[\"user\"][\"screen_name\"])\n",
    "    followers_count.append(tweet._json[\"user\"][\"followers_count\"])\n",
    "    statuses_count.append(tweet._json[\"user\"][\"statuses_count\"])\n",
    "    locations.append(tweet._json[\"user\"][\"location\"])\n",
    "\n"
   ]
  },
  {
   "cell_type": "code",
   "execution_count": 13,
   "metadata": {},
   "outputs": [
    {
     "data": {
      "text/html": [
       "<div>\n",
       "<style scoped>\n",
       "    .dataframe tbody tr th:only-of-type {\n",
       "        vertical-align: middle;\n",
       "    }\n",
       "\n",
       "    .dataframe tbody tr th {\n",
       "        vertical-align: top;\n",
       "    }\n",
       "\n",
       "    .dataframe thead th {\n",
       "        text-align: right;\n",
       "    }\n",
       "</style>\n",
       "<table border=\"1\" class=\"dataframe\">\n",
       "  <thead>\n",
       "    <tr style=\"text-align: right;\">\n",
       "      <th></th>\n",
       "      <th>date</th>\n",
       "      <th>place</th>\n",
       "      <th>lang</th>\n",
       "      <th>text</th>\n",
       "      <th>user</th>\n",
       "      <th>followers_count</th>\n",
       "      <th>statuses_count</th>\n",
       "      <th>location</th>\n",
       "    </tr>\n",
       "  </thead>\n",
       "  <tbody>\n",
       "    <tr>\n",
       "      <th>0</th>\n",
       "      <td>Wed Oct 28 12:29:10 +0000 2020</td>\n",
       "      <td>None</td>\n",
       "      <td>en</td>\n",
       "      <td>RT @rais_shk: Modi Ji,\\nThe Ministry of Electr...</td>\n",
       "      <td>FayazSafoora</td>\n",
       "      <td>60</td>\n",
       "      <td>3245</td>\n",
       "      <td>None</td>\n",
       "    </tr>\n",
       "    <tr>\n",
       "      <th>1</th>\n",
       "      <td>Wed Oct 28 12:29:10 +0000 2020</td>\n",
       "      <td>None</td>\n",
       "      <td>en</td>\n",
       "      <td>$Gold dips on stronger $dollar; #coronavirus c...</td>\n",
       "      <td>GrantOnGold</td>\n",
       "      <td>4366</td>\n",
       "      <td>38553</td>\n",
       "      <td>Denver, Colorado USA</td>\n",
       "    </tr>\n",
       "    <tr>\n",
       "      <th>2</th>\n",
       "      <td>Wed Oct 28 12:29:10 +0000 2020</td>\n",
       "      <td>None</td>\n",
       "      <td>es</td>\n",
       "      <td>RT @VillaFernando_: América Latina registra un...</td>\n",
       "      <td>Keyra2</td>\n",
       "      <td>261</td>\n",
       "      <td>18602</td>\n",
       "      <td>Portoviejo</td>\n",
       "    </tr>\n",
       "    <tr>\n",
       "      <th>3</th>\n",
       "      <td>Wed Oct 28 12:29:10 +0000 2020</td>\n",
       "      <td>None</td>\n",
       "      <td>de</td>\n",
       "      <td>In der aktuellen Folge unseres Podcasts sprech...</td>\n",
       "      <td>ibe_lu</td>\n",
       "      <td>56</td>\n",
       "      <td>99</td>\n",
       "      <td>Ludwigshafen am Rhein</td>\n",
       "    </tr>\n",
       "    <tr>\n",
       "      <th>4</th>\n",
       "      <td>Wed Oct 28 12:29:10 +0000 2020</td>\n",
       "      <td>None</td>\n",
       "      <td>fr</td>\n",
       "      <td>RT @daime4l: La poukave du quartier gouverneme...</td>\n",
       "      <td>yayvx</td>\n",
       "      <td>948</td>\n",
       "      <td>6819</td>\n",
       "      <td>Fox river</td>\n",
       "    </tr>\n",
       "  </tbody>\n",
       "</table>\n",
       "</div>"
      ],
      "text/plain": [
       "                             date place lang  \\\n",
       "0  Wed Oct 28 12:29:10 +0000 2020  None   en   \n",
       "1  Wed Oct 28 12:29:10 +0000 2020  None   en   \n",
       "2  Wed Oct 28 12:29:10 +0000 2020  None   es   \n",
       "3  Wed Oct 28 12:29:10 +0000 2020  None   de   \n",
       "4  Wed Oct 28 12:29:10 +0000 2020  None   fr   \n",
       "\n",
       "                                                text          user  \\\n",
       "0  RT @rais_shk: Modi Ji,\\nThe Ministry of Electr...  FayazSafoora   \n",
       "1  $Gold dips on stronger $dollar; #coronavirus c...   GrantOnGold   \n",
       "2  RT @VillaFernando_: América Latina registra un...        Keyra2   \n",
       "3  In der aktuellen Folge unseres Podcasts sprech...        ibe_lu   \n",
       "4  RT @daime4l: La poukave du quartier gouverneme...         yayvx   \n",
       "\n",
       "   followers_count  statuses_count               location  \n",
       "0               60            3245                   None  \n",
       "1             4366           38553   Denver, Colorado USA  \n",
       "2              261           18602             Portoviejo  \n",
       "3               56              99  Ludwigshafen am Rhein  \n",
       "4              948            6819             Fox river   "
      ]
     },
     "execution_count": 13,
     "metadata": {},
     "output_type": "execute_result"
    }
   ],
   "source": [
    "# Store the data to a Pandas DataFrame and delete the temporary lists for memory efficiency\n",
    "df = pd.DataFrame({\"date\":dates, \"place\":places, \"lang\":langs, \"text\":texts, \"user\":users,\n",
    "                     \"followers_count\":followers_count, \"statuses_count\":statuses_count, \"location\": locations})\n",
    "\n",
    "del dates, places, langs, texts, users, followers_count, statuses_count, locations\n",
    "df.head()"
   ]
  },
  {
   "cell_type": "code",
   "execution_count": 10,
   "metadata": {},
   "outputs": [
    {
     "data": {
      "text/html": [
       "<div>\n",
       "<style scoped>\n",
       "    .dataframe tbody tr th:only-of-type {\n",
       "        vertical-align: middle;\n",
       "    }\n",
       "\n",
       "    .dataframe tbody tr th {\n",
       "        vertical-align: top;\n",
       "    }\n",
       "\n",
       "    .dataframe thead th {\n",
       "        text-align: right;\n",
       "    }\n",
       "</style>\n",
       "<table border=\"1\" class=\"dataframe\">\n",
       "  <thead>\n",
       "    <tr style=\"text-align: right;\">\n",
       "      <th></th>\n",
       "      <th>Unnamed: 0</th>\n",
       "      <th>date</th>\n",
       "      <th>place</th>\n",
       "      <th>lang</th>\n",
       "      <th>text</th>\n",
       "      <th>user</th>\n",
       "      <th>followers_count</th>\n",
       "      <th>statuses_count</th>\n",
       "      <th>location</th>\n",
       "    </tr>\n",
       "  </thead>\n",
       "  <tbody>\n",
       "    <tr>\n",
       "      <th>0</th>\n",
       "      <td>0</td>\n",
       "      <td>2020-10-28 12:29:10</td>\n",
       "      <td>NaN</td>\n",
       "      <td>en</td>\n",
       "      <td>RT @rais_shk: Modi Ji,\\nThe Ministry of Electr...</td>\n",
       "      <td>FayazSafoora</td>\n",
       "      <td>60</td>\n",
       "      <td>3245</td>\n",
       "      <td>NaN</td>\n",
       "    </tr>\n",
       "    <tr>\n",
       "      <th>1</th>\n",
       "      <td>1</td>\n",
       "      <td>2020-10-28 12:29:10</td>\n",
       "      <td>NaN</td>\n",
       "      <td>en</td>\n",
       "      <td>$Gold dips on stronger $dollar; #coronavirus c...</td>\n",
       "      <td>GrantOnGold</td>\n",
       "      <td>4366</td>\n",
       "      <td>38553</td>\n",
       "      <td>Denver, Colorado USA</td>\n",
       "    </tr>\n",
       "    <tr>\n",
       "      <th>2</th>\n",
       "      <td>2</td>\n",
       "      <td>2020-10-28 12:29:10</td>\n",
       "      <td>NaN</td>\n",
       "      <td>es</td>\n",
       "      <td>RT @VillaFernando_: América Latina registra un...</td>\n",
       "      <td>Keyra2</td>\n",
       "      <td>261</td>\n",
       "      <td>18602</td>\n",
       "      <td>Portoviejo</td>\n",
       "    </tr>\n",
       "    <tr>\n",
       "      <th>3</th>\n",
       "      <td>3</td>\n",
       "      <td>2020-10-28 12:29:10</td>\n",
       "      <td>NaN</td>\n",
       "      <td>de</td>\n",
       "      <td>In der aktuellen Folge unseres Podcasts sprech...</td>\n",
       "      <td>ibe_lu</td>\n",
       "      <td>56</td>\n",
       "      <td>99</td>\n",
       "      <td>Ludwigshafen am Rhein</td>\n",
       "    </tr>\n",
       "    <tr>\n",
       "      <th>4</th>\n",
       "      <td>4</td>\n",
       "      <td>2020-10-28 12:29:10</td>\n",
       "      <td>NaN</td>\n",
       "      <td>fr</td>\n",
       "      <td>RT @daime4l: La poukave du quartier gouverneme...</td>\n",
       "      <td>yayvx</td>\n",
       "      <td>948</td>\n",
       "      <td>6819</td>\n",
       "      <td>Fox river</td>\n",
       "    </tr>\n",
       "  </tbody>\n",
       "</table>\n",
       "</div>"
      ],
      "text/plain": [
       "   Unnamed: 0                date place lang  \\\n",
       "0           0 2020-10-28 12:29:10   NaN   en   \n",
       "1           1 2020-10-28 12:29:10   NaN   en   \n",
       "2           2 2020-10-28 12:29:10   NaN   es   \n",
       "3           3 2020-10-28 12:29:10   NaN   de   \n",
       "4           4 2020-10-28 12:29:10   NaN   fr   \n",
       "\n",
       "                                                text          user  \\\n",
       "0  RT @rais_shk: Modi Ji,\\nThe Ministry of Electr...  FayazSafoora   \n",
       "1  $Gold dips on stronger $dollar; #coronavirus c...   GrantOnGold   \n",
       "2  RT @VillaFernando_: América Latina registra un...        Keyra2   \n",
       "3  In der aktuellen Folge unseres Podcasts sprech...        ibe_lu   \n",
       "4  RT @daime4l: La poukave du quartier gouverneme...         yayvx   \n",
       "\n",
       "   followers_count  statuses_count               location  \n",
       "0               60            3245                    NaN  \n",
       "1             4366           38553   Denver, Colorado USA  \n",
       "2              261           18602             Portoviejo  \n",
       "3               56              99  Ludwigshafen am Rhein  \n",
       "4              948            6819             Fox river   "
      ]
     },
     "execution_count": 10,
     "metadata": {},
     "output_type": "execute_result"
    }
   ],
   "source": [
    "# Make Pandas recognize the \"date\" column as a Datetime object\n",
    "df.date = pd.to_datetime(df.date, infer_datetime_format=True)\n",
    "df.head()"
   ]
  },
  {
   "cell_type": "code",
   "execution_count": 15,
   "metadata": {},
   "outputs": [],
   "source": [
    "# Save the dataframe into a csv file for future usage\n",
    "# df.to_csv('covid.csv')"
   ]
  },
  {
   "cell_type": "markdown",
   "metadata": {},
   "source": [
    "### Exploratory analysis\n",
    "* Report the number of unique: users, locations, and users mentioned within the tweets.\n",
    "* How many tweets (%) had their place attribute empty.\n",
    "* Plot the distribution of languages (barplot).\n",
    "* Plot the number of tweets per minute, from the minute of the first to the minute of the last tweet that was collected (hint: use `dt`).\n",
    "* Plot the number of tweets per minute for the 3 most frequently mentioned places. Discriminating between the three (e.g., using hue) is preferred but not requested."
   ]
  },
  {
   "cell_type": "code",
   "execution_count": 16,
   "metadata": {},
   "outputs": [
    {
     "name": "stdout",
     "output_type": "stream",
     "text": [
      "Number of unique users: 41470\n",
      "Number of unique locations: 14133\n"
     ]
    }
   ],
   "source": [
    "print(f\"Number of unique users: {len(df.user.unique())}\")\n",
    "print(f\"Number of unique locations: {len(df.location.unique())}\")"
   ]
  },
  {
   "cell_type": "code",
   "execution_count": 65,
   "metadata": {},
   "outputs": [
    {
     "name": "stdout",
     "output_type": "stream",
     "text": [
      "Number of unique users mentioned: 16126\n"
     ]
    }
   ],
   "source": [
    "# Parts of this code cell taken from lectures' slides\n",
    "import re\n",
    "# A regex for extracting user mentions (e.g. @user)\n",
    "p = re.compile('@[\\w\\-.]+')\n",
    "# Concatenate all texts for all the tweets\n",
    "all_texts = \" \".join(df.text.to_list())\n",
    "users_mentioned = p.findall(all_texts)\n",
    "# Use set data structure to maintain only unique usernames\n",
    "print(f\"Number of unique users mentioned: {len(set(users_mentioned))}\")"
   ]
  },
  {
   "cell_type": "code",
   "execution_count": 18,
   "metadata": {},
   "outputs": [
    {
     "name": "stdout",
     "output_type": "stream",
     "text": [
      "Percentage of tweets that had their place attribute empty: 99.09 %\n"
     ]
    }
   ],
   "source": [
    "print(f\"Percentage of tweets that had their place attribute empty: {df.place.isnull().sum() / len(df) * 100} %\")"
   ]
  },
  {
   "cell_type": "code",
   "execution_count": 133,
   "metadata": {},
   "outputs": [
    {
     "data": {
      "image/png": "[encoded data removed]",
      "text/plain": [
       "<Figure size 1080x504 with 1 Axes>"
      ]
     },
     "metadata": {},
     "output_type": "display_data"
    }
   ],
   "source": [
    "import seaborn as sns\n",
    "\n",
    "sns.set_theme(style=\"whitegrid\")\n",
    "plt.figure(figsize=(15,7))\n",
    "# We select to plot the 10 most common languages as the count for the rest of them is negligible\n",
    "ax = sns.countplot(x=\"lang\", data=df, order=df.lang.value_counts().index[:10])"
   ]
  },
  {
   "cell_type": "code",
   "execution_count": 14,
   "metadata": {},
   "outputs": [
    {
     "data": {
      "text/plain": [
       "date\n",
       "29    2248\n",
       "30    2870\n",
       "31    2757\n",
       "32    2756\n",
       "33    2743\n",
       "34    2758\n",
       "35    2859\n",
       "36    2987\n",
       "37    2943\n",
       "38    2936\n",
       "39    2941\n",
       "40    2944\n",
       "41    2936\n",
       "42    2954\n",
       "43    2959\n",
       "44    2932\n",
       "45    2967\n",
       "46    1510\n",
       "Name: date, dtype: int64"
      ]
     },
     "execution_count": 14,
     "metadata": {},
     "output_type": "execute_result"
    }
   ],
   "source": [
    "# We make a grouping based on the minute every tweet was created at and make an aggregation count on the records\n",
    "# df.groupby([df.date.dt.minute]).agg({'date': 'count'})\n",
    "df.groupby([df.date.dt.minute]).count().date"
   ]
  },
  {
   "cell_type": "code",
   "execution_count": 3,
   "metadata": {},
   "outputs": [],
   "source": [
    "df = pd.read_csv('covid.csv')"
   ]
  },
  {
   "cell_type": "code",
   "execution_count": 5,
   "metadata": {},
   "outputs": [
    {
     "data": {
      "text/plain": [
       "0        2020-10-28 12:29:10\n",
       "1        2020-10-28 12:29:10\n",
       "2        2020-10-28 12:29:10\n",
       "3        2020-10-28 12:29:10\n",
       "4        2020-10-28 12:29:10\n",
       "                ...         \n",
       "49995    2020-10-28 12:46:31\n",
       "49996    2020-10-28 12:46:31\n",
       "49997    2020-10-28 12:46:31\n",
       "49998    2020-10-28 12:46:31\n",
       "49999    2020-10-28 12:46:31\n",
       "Name: date, Length: 50000, dtype: object"
      ]
     },
     "execution_count": 5,
     "metadata": {},
     "output_type": "execute_result"
    }
   ],
   "source": [
    "df.date"
   ]
  },
  {
   "cell_type": "markdown",
   "metadata": {},
   "source": [
    "We can either use a __Countplot__ using the Seaborn package or a __Lineplot__ using Pandas interior functionality."
   ]
  },
  {
   "cell_type": "code",
   "execution_count": 243,
   "metadata": {},
   "outputs": [
    {
     "data": {
      "image/png": "[encoded data removed]",
      "text/plain": [
       "<Figure size 1080x504 with 1 Axes>"
      ]
     },
     "metadata": {},
     "output_type": "display_data"
    },
    {
     "data": {
      "text/plain": [
       "<Figure size 1080x504 with 0 Axes>"
      ]
     },
     "metadata": {},
     "output_type": "display_data"
    }
   ],
   "source": [
    "ax = sns.countplot(x=df.date.dt.minute)\n",
    "plt.figure(figsize=(15,7))\n",
    "_ = ax.set(xlabel='Minute', ylabel='# Of Tweets')"
   ]
  },
  {
   "cell_type": "code",
   "execution_count": 135,
   "metadata": {},
   "outputs": [
    {
     "data": {
      "text/plain": [
       "<AxesSubplot:xlabel='minute', ylabel='Tweets'>"
      ]
     },
     "execution_count": 135,
     "metadata": {},
     "output_type": "execute_result"
    },
    {
     "data": {
      "image/png": "[encoded data removed]",
      "text/plain": [
       "<Figure size 1080x504 with 1 Axes>"
      ]
     },
     "metadata": {},
     "output_type": "display_data"
    }
   ],
   "source": [
    "df.groupby([df.date.dt.minute]).agg({'date': 'count'}).plot(xlabel=\"minute\", ylabel=\"Tweets\", legend=None, figsize=(15, 7))\n",
    "# Alternatively\n",
    "# df.resample('1T', on='date').agg({'date': 'count'}).plot(figsize=(15, 7))"
   ]
  },
  {
   "cell_type": "code",
   "execution_count": 35,
   "metadata": {},
   "outputs": [
    {
     "name": "stdout",
     "output_type": "stream",
     "text": [
      "Index(['United States', 'France', 'USA'], dtype='object')\n"
     ]
    }
   ],
   "source": [
    "# Print the 3 most common locations\n",
    "print(df.location.value_counts().iloc[:3].keys())"
   ]
  },
  {
   "cell_type": "code",
   "execution_count": 152,
   "metadata": {},
   "outputs": [],
   "source": [
    "# Put them in a list\n",
    "top_3_locations = [location for location in df.location.value_counts().iloc[:3].keys()]\n",
    "\n",
    "# Create a new DataFrame containing only the records we are interested in\n",
    "df_top3 = df[df.location.isin(top_3_locations)]"
   ]
  },
  {
   "cell_type": "code",
   "execution_count": 271,
   "metadata": {},
   "outputs": [
    {
     "data": {
      "text/html": [
       "<div>\n",
       "<style scoped>\n",
       "    .dataframe tbody tr th:only-of-type {\n",
       "        vertical-align: middle;\n",
       "    }\n",
       "\n",
       "    .dataframe tbody tr th {\n",
       "        vertical-align: top;\n",
       "    }\n",
       "\n",
       "    .dataframe thead tr th {\n",
       "        text-align: left;\n",
       "    }\n",
       "</style>\n",
       "<table border=\"1\" class=\"dataframe\">\n",
       "  <thead>\n",
       "    <tr>\n",
       "      <th>date</th>\n",
       "      <th colspan=\"3\" halign=\"left\">29</th>\n",
       "      <th colspan=\"3\" halign=\"left\">30</th>\n",
       "      <th colspan=\"3\" halign=\"left\">31</th>\n",
       "      <th>32</th>\n",
       "      <th>...</th>\n",
       "      <th>43</th>\n",
       "      <th colspan=\"3\" halign=\"left\">44</th>\n",
       "      <th colspan=\"3\" halign=\"left\">45</th>\n",
       "      <th colspan=\"3\" halign=\"left\">46</th>\n",
       "    </tr>\n",
       "    <tr>\n",
       "      <th>location</th>\n",
       "      <th>France</th>\n",
       "      <th>USA</th>\n",
       "      <th>United States</th>\n",
       "      <th>France</th>\n",
       "      <th>USA</th>\n",
       "      <th>United States</th>\n",
       "      <th>France</th>\n",
       "      <th>USA</th>\n",
       "      <th>United States</th>\n",
       "      <th>France</th>\n",
       "      <th>...</th>\n",
       "      <th>United States</th>\n",
       "      <th>France</th>\n",
       "      <th>USA</th>\n",
       "      <th>United States</th>\n",
       "      <th>France</th>\n",
       "      <th>USA</th>\n",
       "      <th>United States</th>\n",
       "      <th>France</th>\n",
       "      <th>USA</th>\n",
       "      <th>United States</th>\n",
       "    </tr>\n",
       "  </thead>\n",
       "  <tbody>\n",
       "    <tr>\n",
       "      <th>date</th>\n",
       "      <td>17</td>\n",
       "      <td>7</td>\n",
       "      <td>14</td>\n",
       "      <td>25</td>\n",
       "      <td>10</td>\n",
       "      <td>29</td>\n",
       "      <td>21</td>\n",
       "      <td>17</td>\n",
       "      <td>25</td>\n",
       "      <td>19</td>\n",
       "      <td>...</td>\n",
       "      <td>36</td>\n",
       "      <td>17</td>\n",
       "      <td>13</td>\n",
       "      <td>41</td>\n",
       "      <td>14</td>\n",
       "      <td>13</td>\n",
       "      <td>28</td>\n",
       "      <td>5</td>\n",
       "      <td>5</td>\n",
       "      <td>18</td>\n",
       "    </tr>\n",
       "  </tbody>\n",
       "</table>\n",
       "<p>1 rows × 54 columns</p>\n",
       "</div>"
      ],
      "text/plain": [
       "date         29                       30                       31      \\\n",
       "location France USA United States France USA United States France USA   \n",
       "date         17   7            14     25  10            29     21  17   \n",
       "\n",
       "date                       32  ...            43     44                    \\\n",
       "location United States France  ... United States France USA United States   \n",
       "date                25     19  ...            36     17  13            41   \n",
       "\n",
       "date         45                       46                    \n",
       "location France USA United States France USA United States  \n",
       "date         14  13            28      5   5            18  \n",
       "\n",
       "[1 rows x 54 columns]"
      ]
     },
     "execution_count": 271,
     "metadata": {},
     "output_type": "execute_result"
    }
   ],
   "source": [
    "# We perform a double groupby using two features\n",
    "df_top3.groupby([df_top3.date.dt.minute, 'location']).agg({'date': 'count'}).T"
   ]
  },
  {
   "cell_type": "markdown",
   "metadata": {},
   "source": [
    "Here again, we could use either Seaborn or Pandas plotting."
   ]
  },
  {
   "cell_type": "code",
   "execution_count": 252,
   "metadata": {},
   "outputs": [
    {
     "data": {
      "image/png": "[encoded data removed]",
      "text/plain": [
       "<Figure size 1080x504 with 1 Axes>"
      ]
     },
     "metadata": {},
     "output_type": "display_data"
    },
    {
     "data": {
      "text/plain": [
       "<Figure size 1080x504 with 0 Axes>"
      ]
     },
     "metadata": {},
     "output_type": "display_data"
    }
   ],
   "source": [
    "ax = sns.countplot(x=df_top3.date.dt.minute, hue=df_top3.location)\n",
    "plt.figure(figsize=(15,7))\n",
    "_ = ax.set(xlabel='Minute', ylabel='# Of Tweets')"
   ]
  },
  {
   "cell_type": "code",
   "execution_count": 253,
   "metadata": {},
   "outputs": [
    {
     "data": {
      "image/png": "[encoded data removed]",
      "text/plain": [
       "<Figure size 1080x504 with 1 Axes>"
      ]
     },
     "metadata": {},
     "output_type": "display_data"
    }
   ],
   "source": [
    "_ = df_top3.groupby([df_top3.date.dt.minute, 'location']).agg({'date': 'count'}).unstack() \\\n",
    "        .plot(xlabel=\"minute\", ylabel=\"Tweets\", figsize=(15,7))"
   ]
  },
  {
   "cell_type": "markdown",
   "metadata": {},
   "source": [
    "### Filtering\n",
    "* Assume that simple emoticons can capture the sentiment of a tweet.\n",
    "* Create one regular expression to detect positive emoticons: `:)`,`:D`, `XD` and one to detect negative emoticons: `:(`, `:'(`, `:((` in the tweets. Report the number of tweets with positive and the number of tweets with negative sentiment.\n",
    "* Plot the number of tweets with positive and the number of tweets with negative sentiment per minute."
   ]
  },
  {
   "cell_type": "code",
   "execution_count": 163,
   "metadata": {},
   "outputs": [],
   "source": [
    "positive_regex = r'[xX:][)D]+' # Starts with one of: 'x', 'X', ':' followed by one or more ')' or 'D'\n",
    "negative_regex = r':\\'?\\(+' # # Starts with ':' followed by zero or one \"tear\" and finally one or more '('"
   ]
  },
  {
   "cell_type": "code",
   "execution_count": 164,
   "metadata": {},
   "outputs": [],
   "source": [
    "n_pos_comments = len(df[df.text.str.contains(positive_regex)])\n",
    "n_neg_comments = len(df[df.text.str.contains(negative_regex)])"
   ]
  },
  {
   "cell_type": "code",
   "execution_count": 256,
   "metadata": {},
   "outputs": [
    {
     "name": "stdout",
     "output_type": "stream",
     "text": [
      "Number of tweets with positive sentiment: 95\n",
      "Number of tweets with negative sentiment: 27\n"
     ]
    }
   ],
   "source": [
    "print(f\"Number of tweets with positive sentiment: {n_pos_comments}\\n\\\n",
    "Number of tweets with negative sentiment: {n_neg_comments}\")"
   ]
  },
  {
   "cell_type": "code",
   "execution_count": 265,
   "metadata": {},
   "outputs": [
    {
     "name": "stderr",
     "output_type": "stream",
     "text": [
      "<ipython-input-265-7f5f18c7dd91>:5: SettingWithCopyWarning: \n",
      "A value is trying to be set on a copy of a slice from a DataFrame.\n",
      "Try using .loc[row_indexer,col_indexer] = value instead\n",
      "\n",
      "See the caveats in the documentation: https://pandas.pydata.org/pandas-docs/stable/user_guide/indexing.html#returning-a-view-versus-a-copy\n",
      "  emotions_df[\"positive_emotion\"] = emotions_df.text.str.contains(positive_regex)\n"
     ]
    }
   ],
   "source": [
    "# Create a new DataFrame containing only tweets with positive or negative sentiment\n",
    "emotions_df = df[(df.text.str.contains(positive_regex)) | (df.text.str.contains(negative_regex))]\n",
    "# Here, we abusively suppose that a record which has simultaneously positive and negative sentiment,\n",
    "# is classified as positive, with small error rate\n",
    "emotions_df[\"positive_emotion\"] = emotions_df.text.str.contains(positive_regex)"
   ]
  },
  {
   "cell_type": "code",
   "execution_count": 257,
   "metadata": {},
   "outputs": [
    {
     "data": {
      "text/plain": [
       "True     95\n",
       "False    27\n",
       "Name: positive_emotion, dtype: int64"
      ]
     },
     "execution_count": 257,
     "metadata": {},
     "output_type": "execute_result"
    }
   ],
   "source": [
    "emotions_df.positive_emotion.value_counts()"
   ]
  },
  {
   "cell_type": "code",
   "execution_count": 259,
   "metadata": {},
   "outputs": [
    {
     "data": {
      "image/png": "[encoded data removed]",
      "text/plain": [
       "<Figure size 1080x504 with 1 Axes>"
      ]
     },
     "metadata": {},
     "output_type": "display_data"
    }
   ],
   "source": [
    "ax = sns.countplot(x=emotions_df.date.dt.minute, hue=emotions_df.positive_emotion)"
   ]
  },
  {
   "cell_type": "code",
   "execution_count": 261,
   "metadata": {},
   "outputs": [
    {
     "data": {
      "image/png": "[encoded data removed]",
      "text/plain": [
       "<Figure size 1080x504 with 1 Axes>"
      ]
     },
     "metadata": {},
     "output_type": "display_data"
    }
   ],
   "source": [
    "_ = emotions_df.groupby([emotions_df.date.dt.minute, 'positive_emotion']).agg({'date': 'count'}).unstack() \\\n",
    "        .plot(xlabel=\"minute\", ylabel=\"Tweets\", figsize=(15,7))"
   ]
  },
  {
   "cell_type": "markdown",
   "metadata": {},
   "source": [
    "### Text pre-processing\n",
    "Use regular expressions to remove:\n",
    "* Punctuation\n",
    "* Digits\n",
    "* New line characters\n",
    "* URL links\n",
    "* References to users: `@user`\n",
    "* Hashtags"
   ]
  },
  {
   "cell_type": "markdown",
   "metadata": {},
   "source": [
    "In order to avoid information leaks, we should be careful about the ordering of the asked procedures. So, we should firstly remove URL links and references to other users, then hashtags, digits and new lines and finally punctuation. Additionally, we will print the text of the first tweet indicativelly, after every transformation."
   ]
  },
  {
   "cell_type": "code",
   "execution_count": 231,
   "metadata": {},
   "outputs": [
    {
     "name": "stdout",
     "output_type": "stream",
     "text": [
      "RT @rais_shk: Modi Ji,\n",
      "The Ministry of Electronic, NIC &amp; NeGD has no information about who &amp; how created the #ArogyaSethuApp.\n",
      "Can you tell…\n"
     ]
    }
   ],
   "source": [
    "print(df.iloc[0].text)"
   ]
  },
  {
   "cell_type": "code",
   "execution_count": 267,
   "metadata": {},
   "outputs": [
    {
     "name": "stdout",
     "output_type": "stream",
     "text": [
      "RT @rais_shk: Modi Ji,\n",
      "The Ministry of Electronic, NIC &amp; NeGD has no information about who &amp; how created the #ArogyaSethuApp.\n",
      "Can you tell…\n",
      "RT : Modi Ji,\n",
      "The Ministry of Electronic, NIC &amp; NeGD has no information about who &amp; how created the #ArogyaSethuApp.\n",
      "Can you tell…\n",
      "RT : Modi Ji,\n",
      "The Ministry of Electronic, NIC &amp; NeGD has no information about who &amp; how created the \n",
      "Can you tell…\n",
      "RT : Modi Ji,\n",
      "The Ministry of Electronic, NIC &amp; NeGD has no information about who &amp; how created the \n",
      "Can you tell…\n",
      "RT : Modi Ji,The Ministry of Electronic, NIC &amp; NeGD has no information about who &amp; how created the Can you tell…\n"
     ]
    }
   ],
   "source": [
    "# Remove URLs - Starts with 'http' followed by zero or one 's', then :// followed by any non whitespace character\n",
    "df[\"clean_text\"] = df.text.replace(r'https?://\\S+', \"\", regex=True)\n",
    "print(df.iloc[0].clean_text)\n",
    "\n",
    "# Remove user mentions - Starts with a '@' followed by alpharithmetical or '-' or '.' one or more times\n",
    "df.clean_text = df.clean_text.replace(r'@[\\w\\-.]+', \"\", regex=True)\n",
    "print(df.iloc[0].clean_text)\n",
    "\n",
    "# Remove hashtags - Starts with a '#' followed by any non whitespace character\n",
    "df.clean_text = df.clean_text.replace(r'#\\S+', \"\", regex=True)\n",
    "print(df.iloc[0].clean_text)\n",
    "\n",
    "# Remove digits - Self explanatory\n",
    "df.clean_text = df.clean_text.replace(r'\\d', \"\", regex=True)\n",
    "print(df.iloc[0].clean_text)\n",
    "\n",
    "# Remove new line characters - Self explanatory\n",
    "df.clean_text = df.clean_text.replace(r'\\n', \"\", regex=True)\n",
    "print(df.iloc[0].clean_text)"
   ]
  },
  {
   "cell_type": "code",
   "execution_count": 268,
   "metadata": {},
   "outputs": [
    {
     "name": "stdout",
     "output_type": "stream",
     "text": [
      "!\"#$%&'()*+,-./:;<=>?@[\\]^_`{|}~ \n",
      "\n",
      "RT  Modi JiThe Ministry of Electronic NIC amp NeGD has no information about who amp how created the Can you tell…\n"
     ]
    }
   ],
   "source": [
    "from string import punctuation\n",
    "\n",
    "print(punctuation, '\\n')\n",
    "# Finally, remove punctuation - Used the 'punctuation' module from the 'string' package\n",
    "df.clean_text = df.clean_text.replace(f\"[{punctuation}]\", \"\", regex=True)\n",
    "print(df.iloc[0].clean_text)"
   ]
  },
  {
   "cell_type": "code",
   "execution_count": 237,
   "metadata": {},
   "outputs": [
    {
     "data": {
      "text/html": [
       "<div>\n",
       "<style scoped>\n",
       "    .dataframe tbody tr th:only-of-type {\n",
       "        vertical-align: middle;\n",
       "    }\n",
       "\n",
       "    .dataframe tbody tr th {\n",
       "        vertical-align: top;\n",
       "    }\n",
       "\n",
       "    .dataframe thead th {\n",
       "        text-align: right;\n",
       "    }\n",
       "</style>\n",
       "<table border=\"1\" class=\"dataframe\">\n",
       "  <thead>\n",
       "    <tr style=\"text-align: right;\">\n",
       "      <th></th>\n",
       "      <th>date</th>\n",
       "      <th>place</th>\n",
       "      <th>lang</th>\n",
       "      <th>text</th>\n",
       "      <th>user</th>\n",
       "      <th>followers_count</th>\n",
       "      <th>statuses_count</th>\n",
       "      <th>location</th>\n",
       "      <th>clean_text</th>\n",
       "    </tr>\n",
       "  </thead>\n",
       "  <tbody>\n",
       "    <tr>\n",
       "      <th>0</th>\n",
       "      <td>2020-10-28 12:29:10</td>\n",
       "      <td>None</td>\n",
       "      <td>en</td>\n",
       "      <td>RT @rais_shk: Modi Ji,\\nThe Ministry of Electr...</td>\n",
       "      <td>FayazSafoora</td>\n",
       "      <td>60</td>\n",
       "      <td>3245</td>\n",
       "      <td>None</td>\n",
       "      <td>RT : Modi Ji,The Ministry of Electronic, NIC &amp;...</td>\n",
       "    </tr>\n",
       "    <tr>\n",
       "      <th>1</th>\n",
       "      <td>2020-10-28 12:29:10</td>\n",
       "      <td>None</td>\n",
       "      <td>en</td>\n",
       "      <td>$Gold dips on stronger $dollar; #coronavirus c...</td>\n",
       "      <td>GrantOnGold</td>\n",
       "      <td>4366</td>\n",
       "      <td>38553</td>\n",
       "      <td>Denver, Colorado USA</td>\n",
       "      <td>$Gold dips on stronger $dollar;  concerns cap ...</td>\n",
       "    </tr>\n",
       "    <tr>\n",
       "      <th>2</th>\n",
       "      <td>2020-10-28 12:29:10</td>\n",
       "      <td>None</td>\n",
       "      <td>es</td>\n",
       "      <td>RT @VillaFernando_: América Latina registra un...</td>\n",
       "      <td>Keyra2</td>\n",
       "      <td>261</td>\n",
       "      <td>18602</td>\n",
       "      <td>Portoviejo</td>\n",
       "      <td>RT : América Latina registra un récord históri...</td>\n",
       "    </tr>\n",
       "    <tr>\n",
       "      <th>3</th>\n",
       "      <td>2020-10-28 12:29:10</td>\n",
       "      <td>None</td>\n",
       "      <td>de</td>\n",
       "      <td>In der aktuellen Folge unseres Podcasts sprech...</td>\n",
       "      <td>ibe_lu</td>\n",
       "      <td>56</td>\n",
       "      <td>99</td>\n",
       "      <td>Ludwigshafen am Rhein</td>\n",
       "      <td>In der aktuellen Folge unseres Podcasts sprech...</td>\n",
       "    </tr>\n",
       "    <tr>\n",
       "      <th>4</th>\n",
       "      <td>2020-10-28 12:29:10</td>\n",
       "      <td>None</td>\n",
       "      <td>fr</td>\n",
       "      <td>RT @daime4l: La poukave du quartier gouverneme...</td>\n",
       "      <td>yayvx</td>\n",
       "      <td>948</td>\n",
       "      <td>6819</td>\n",
       "      <td>Fox river</td>\n",
       "      <td>RT : La poukave du quartier gouvernemental</td>\n",
       "    </tr>\n",
       "    <tr>\n",
       "      <th>...</th>\n",
       "      <td>...</td>\n",
       "      <td>...</td>\n",
       "      <td>...</td>\n",
       "      <td>...</td>\n",
       "      <td>...</td>\n",
       "      <td>...</td>\n",
       "      <td>...</td>\n",
       "      <td>...</td>\n",
       "      <td>...</td>\n",
       "    </tr>\n",
       "    <tr>\n",
       "      <th>49995</th>\n",
       "      <td>2020-10-28 12:46:31</td>\n",
       "      <td>None</td>\n",
       "      <td>en</td>\n",
       "      <td>RT @steve_vladeck: Trump literally left his su...</td>\n",
       "      <td>PhyllisWykoff</td>\n",
       "      <td>57</td>\n",
       "      <td>120</td>\n",
       "      <td>None</td>\n",
       "      <td>RT : Trump literally left his supporters out i...</td>\n",
       "    </tr>\n",
       "    <tr>\n",
       "      <th>49996</th>\n",
       "      <td>2020-10-28 12:46:31</td>\n",
       "      <td>None</td>\n",
       "      <td>und</td>\n",
       "      <td>RT @MrsQuaye: #COVID19 #WednesdayWisdom https:...</td>\n",
       "      <td>judecco</td>\n",
       "      <td>478</td>\n",
       "      <td>83864</td>\n",
       "      <td>Ealing, London</td>\n",
       "      <td>RT :</td>\n",
       "    </tr>\n",
       "    <tr>\n",
       "      <th>49997</th>\n",
       "      <td>2020-10-28 12:46:31</td>\n",
       "      <td>None</td>\n",
       "      <td>en</td>\n",
       "      <td>RT @UtFacio: @momsbsm1 @kim_kwasRN So MAGA vot...</td>\n",
       "      <td>StephStanton3</td>\n",
       "      <td>423</td>\n",
       "      <td>10734</td>\n",
       "      <td>None</td>\n",
       "      <td>RT :   So MAGA voters will be the ones stuck i...</td>\n",
       "    </tr>\n",
       "    <tr>\n",
       "      <th>49998</th>\n",
       "      <td>2020-10-28 12:46:31</td>\n",
       "      <td>None</td>\n",
       "      <td>es</td>\n",
       "      <td>RT @GNB43_Capital: 🚨🖇️#26Oct || Efectivos .@GN...</td>\n",
       "      <td>3raD452</td>\n",
       "      <td>18</td>\n",
       "      <td>632</td>\n",
       "      <td>None</td>\n",
       "      <td>RT : 🚨🖇️ || Efectivos .realizaron patrullaje M...</td>\n",
       "    </tr>\n",
       "    <tr>\n",
       "      <th>49999</th>\n",
       "      <td>2020-10-28 12:46:31</td>\n",
       "      <td>None</td>\n",
       "      <td>fr</td>\n",
       "      <td>RT @Florent__Rossi: Si la fermeture totale des...</td>\n",
       "      <td>OzanneSolene</td>\n",
       "      <td>14</td>\n",
       "      <td>42</td>\n",
       "      <td>Le Cannet, France</td>\n",
       "      <td>RT : Si la fermeture totale des  est annoncée ...</td>\n",
       "    </tr>\n",
       "  </tbody>\n",
       "</table>\n",
       "<p>50000 rows × 9 columns</p>\n",
       "</div>"
      ],
      "text/plain": [
       "                     date place lang  \\\n",
       "0     2020-10-28 12:29:10  None   en   \n",
       "1     2020-10-28 12:29:10  None   en   \n",
       "2     2020-10-28 12:29:10  None   es   \n",
       "3     2020-10-28 12:29:10  None   de   \n",
       "4     2020-10-28 12:29:10  None   fr   \n",
       "...                   ...   ...  ...   \n",
       "49995 2020-10-28 12:46:31  None   en   \n",
       "49996 2020-10-28 12:46:31  None  und   \n",
       "49997 2020-10-28 12:46:31  None   en   \n",
       "49998 2020-10-28 12:46:31  None   es   \n",
       "49999 2020-10-28 12:46:31  None   fr   \n",
       "\n",
       "                                                    text           user  \\\n",
       "0      RT @rais_shk: Modi Ji,\\nThe Ministry of Electr...   FayazSafoora   \n",
       "1      $Gold dips on stronger $dollar; #coronavirus c...    GrantOnGold   \n",
       "2      RT @VillaFernando_: América Latina registra un...         Keyra2   \n",
       "3      In der aktuellen Folge unseres Podcasts sprech...         ibe_lu   \n",
       "4      RT @daime4l: La poukave du quartier gouverneme...          yayvx   \n",
       "...                                                  ...            ...   \n",
       "49995  RT @steve_vladeck: Trump literally left his su...  PhyllisWykoff   \n",
       "49996  RT @MrsQuaye: #COVID19 #WednesdayWisdom https:...        judecco   \n",
       "49997  RT @UtFacio: @momsbsm1 @kim_kwasRN So MAGA vot...  StephStanton3   \n",
       "49998  RT @GNB43_Capital: 🚨🖇️#26Oct || Efectivos .@GN...        3raD452   \n",
       "49999  RT @Florent__Rossi: Si la fermeture totale des...   OzanneSolene   \n",
       "\n",
       "       followers_count  statuses_count               location  \\\n",
       "0                   60            3245                   None   \n",
       "1                 4366           38553   Denver, Colorado USA   \n",
       "2                  261           18602             Portoviejo   \n",
       "3                   56              99  Ludwigshafen am Rhein   \n",
       "4                  948            6819             Fox river    \n",
       "...                ...             ...                    ...   \n",
       "49995               57             120                   None   \n",
       "49996              478           83864         Ealing, London   \n",
       "49997              423           10734                   None   \n",
       "49998               18             632                   None   \n",
       "49999               14              42      Le Cannet, France   \n",
       "\n",
       "                                              clean_text  \n",
       "0      RT : Modi Ji,The Ministry of Electronic, NIC &...  \n",
       "1      $Gold dips on stronger $dollar;  concerns cap ...  \n",
       "2      RT : América Latina registra un récord históri...  \n",
       "3      In der aktuellen Folge unseres Podcasts sprech...  \n",
       "4             RT : La poukave du quartier gouvernemental  \n",
       "...                                                  ...  \n",
       "49995  RT : Trump literally left his supporters out i...  \n",
       "49996                                            RT :     \n",
       "49997  RT :   So MAGA voters will be the ones stuck i...  \n",
       "49998  RT : 🚨🖇️ || Efectivos .realizaron patrullaje M...  \n",
       "49999  RT : Si la fermeture totale des  est annoncée ...  \n",
       "\n",
       "[50000 rows x 9 columns]"
      ]
     },
     "execution_count": 237,
     "metadata": {},
     "output_type": "execute_result"
    }
   ],
   "source": [
    "df"
   ]
  }
 ],
 "metadata": {
  "kernelspec": {
   "display_name": "Python 3",
   "language": "python",
   "name": "python3"
  },
  "language_info": {
   "codemirror_mode": {
    "name": "ipython",
    "version": 3
   },
   "file_extension": ".py",
   "mimetype": "text/x-python",
   "name": "python",
   "nbconvert_exporter": "python",
   "pygments_lexer": "ipython3",
   "version": "3.7.5"
  }
 },
 "nbformat": 4,
 "nbformat_minor": 2
}
